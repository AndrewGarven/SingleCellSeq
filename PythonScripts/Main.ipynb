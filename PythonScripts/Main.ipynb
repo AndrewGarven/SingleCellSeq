{
 "cells": [
  {
   "cell_type": "code",
   "execution_count": 1,
   "metadata": {},
   "outputs": [],
   "source": [
    "import scanpy as sc\n",
    "import scrublet as scr\n",
    "import anndata as ad\n",
    "import pandas as pd\n",
    "import numpy as np\n",
    "import matplotlib.pyplot as plt\n",
    "import seaborn as sns\n",
    "import multiprocessing as mp\n",
    "import scipy.stats as stats\n",
    "from glob import glob"
   ]
  },
  {
   "cell_type": "markdown",
   "metadata": {},
   "source": [
    "Scanpy has weird default values that are often immediately changed by convention. The first is that scanpy by default will only show warning+error messages. We would like to change this as it also offers 'Hints' if you set verbosity to 3."
   ]
  },
  {
   "cell_type": "code",
   "execution_count": 2,
   "metadata": {},
   "outputs": [],
   "source": [
    "sc.settings.verbosity = 3"
   ]
  },
  {
   "cell_type": "markdown",
   "metadata": {},
   "source": [
    "Here we are simply iterating through all of the '*/outs/filtered_feature_bc_matrix' directories and importing the single cell dataset into a scanpy object. \n",
    "\n",
    "1. I generate a list of directory paths to cellranger output directories\n",
    "2. I generate a dictionary containing anndata objects with sample_name as  `keys`\n",
    "3. I concatinate these anndata objects into a single dataset \n",
    "4. I ensure that all the obs and var are unique"
   ]
  },
  {
   "cell_type": "code",
   "execution_count": 7,
   "metadata": {},
   "outputs": [
    {
     "name": "stdout",
     "output_type": "stream",
     "text": [
      "reading /home/garvena/projects/def-dmberman/garvena/singlecellseq/Data/CellBender/Lai/SRR9897622_filtered.h5\n",
      " (0:00:00)\n"
     ]
    },
    {
     "name": "stderr",
     "output_type": "stream",
     "text": [
      "/home/garvena/projects/def-dmberman/garvena/singlecellseq/ENV/lib/python3.8/site-packages/anndata/_core/anndata.py:1840: UserWarning: Variable names are not unique. To make them unique, call `.var_names_make_unique`.\n",
      "  utils.warn_names_duplicates(\"var\")\n"
     ]
    },
    {
     "name": "stdout",
     "output_type": "stream",
     "text": [
      "reading /home/garvena/projects/def-dmberman/garvena/singlecellseq/Data/CellBender/Lai/SRR12539463_filtered.h5\n"
     ]
    },
    {
     "name": "stderr",
     "output_type": "stream",
     "text": [
      "/home/garvena/projects/def-dmberman/garvena/singlecellseq/ENV/lib/python3.8/site-packages/anndata/_core/anndata.py:1840: UserWarning: Variable names are not unique. To make them unique, call `.var_names_make_unique`.\n",
      "  utils.warn_names_duplicates(\"var\")\n"
     ]
    },
    {
     "name": "stdout",
     "output_type": "stream",
     "text": [
      " (0:00:00)\n"
     ]
    },
    {
     "name": "stderr",
     "output_type": "stream",
     "text": [
      "/home/garvena/projects/def-dmberman/garvena/singlecellseq/ENV/lib/python3.8/site-packages/anndata/_core/anndata.py:1840: UserWarning: Variable names are not unique. To make them unique, call `.var_names_make_unique`.\n",
      "  utils.warn_names_duplicates(\"var\")\n"
     ]
    },
    {
     "name": "stdout",
     "output_type": "stream",
     "text": [
      "reading /home/garvena/projects/def-dmberman/garvena/singlecellseq/Data/CellBender/Lai/SRR9897624_filtered.h5\n"
     ]
    },
    {
     "name": "stderr",
     "output_type": "stream",
     "text": [
      "/home/garvena/projects/def-dmberman/garvena/singlecellseq/ENV/lib/python3.8/site-packages/anndata/_core/anndata.py:1840: UserWarning: Variable names are not unique. To make them unique, call `.var_names_make_unique`.\n",
      "  utils.warn_names_duplicates(\"var\")\n"
     ]
    },
    {
     "name": "stdout",
     "output_type": "stream",
     "text": [
      " (0:00:00)\n"
     ]
    },
    {
     "name": "stderr",
     "output_type": "stream",
     "text": [
      "/home/garvena/projects/def-dmberman/garvena/singlecellseq/ENV/lib/python3.8/site-packages/anndata/_core/anndata.py:1840: UserWarning: Variable names are not unique. To make them unique, call `.var_names_make_unique`.\n",
      "  utils.warn_names_duplicates(\"var\")\n"
     ]
    },
    {
     "name": "stdout",
     "output_type": "stream",
     "text": [
      "reading /home/garvena/projects/def-dmberman/garvena/singlecellseq/Data/CellBender/Lai/SRR12539462_filtered.h5\n"
     ]
    },
    {
     "name": "stderr",
     "output_type": "stream",
     "text": [
      "/home/garvena/projects/def-dmberman/garvena/singlecellseq/ENV/lib/python3.8/site-packages/anndata/_core/anndata.py:1840: UserWarning: Variable names are not unique. To make them unique, call `.var_names_make_unique`.\n",
      "  utils.warn_names_duplicates(\"var\")\n"
     ]
    },
    {
     "name": "stdout",
     "output_type": "stream",
     "text": [
      " (0:00:00)\n"
     ]
    },
    {
     "name": "stderr",
     "output_type": "stream",
     "text": [
      "/home/garvena/projects/def-dmberman/garvena/singlecellseq/ENV/lib/python3.8/site-packages/anndata/_core/anndata.py:1840: UserWarning: Variable names are not unique. To make them unique, call `.var_names_make_unique`.\n",
      "  utils.warn_names_duplicates(\"var\")\n"
     ]
    },
    {
     "name": "stdout",
     "output_type": "stream",
     "text": [
      "reading /home/garvena/projects/def-dmberman/garvena/singlecellseq/Data/CellBender/Lai/SRR12603780_filtered.h5\n"
     ]
    },
    {
     "name": "stderr",
     "output_type": "stream",
     "text": [
      "/home/garvena/projects/def-dmberman/garvena/singlecellseq/ENV/lib/python3.8/site-packages/anndata/_core/anndata.py:1840: UserWarning: Variable names are not unique. To make them unique, call `.var_names_make_unique`.\n",
      "  utils.warn_names_duplicates(\"var\")\n"
     ]
    },
    {
     "name": "stdout",
     "output_type": "stream",
     "text": [
      " (0:00:00)\n"
     ]
    },
    {
     "name": "stderr",
     "output_type": "stream",
     "text": [
      "/home/garvena/projects/def-dmberman/garvena/singlecellseq/ENV/lib/python3.8/site-packages/anndata/_core/anndata.py:1840: UserWarning: Variable names are not unique. To make them unique, call `.var_names_make_unique`.\n",
      "  utils.warn_names_duplicates(\"var\")\n"
     ]
    },
    {
     "name": "stdout",
     "output_type": "stream",
     "text": [
      "reading /home/garvena/projects/def-dmberman/garvena/singlecellseq/Data/CellBender/Lai/SRR9897625_filtered.h5\n"
     ]
    },
    {
     "name": "stderr",
     "output_type": "stream",
     "text": [
      "/home/garvena/projects/def-dmberman/garvena/singlecellseq/ENV/lib/python3.8/site-packages/anndata/_core/anndata.py:1840: UserWarning: Variable names are not unique. To make them unique, call `.var_names_make_unique`.\n",
      "  utils.warn_names_duplicates(\"var\")\n"
     ]
    },
    {
     "name": "stdout",
     "output_type": "stream",
     "text": [
      " (0:00:00)\n"
     ]
    },
    {
     "name": "stderr",
     "output_type": "stream",
     "text": [
      "/home/garvena/projects/def-dmberman/garvena/singlecellseq/ENV/lib/python3.8/site-packages/anndata/_core/anndata.py:1840: UserWarning: Variable names are not unique. To make them unique, call `.var_names_make_unique`.\n",
      "  utils.warn_names_duplicates(\"var\")\n"
     ]
    },
    {
     "name": "stdout",
     "output_type": "stream",
     "text": [
      "reading /home/garvena/projects/def-dmberman/garvena/singlecellseq/Data/CellBender/Lai/SRR14615558_filtered.h5\n"
     ]
    },
    {
     "name": "stderr",
     "output_type": "stream",
     "text": [
      "/home/garvena/projects/def-dmberman/garvena/singlecellseq/ENV/lib/python3.8/site-packages/anndata/_core/anndata.py:1840: UserWarning: Variable names are not unique. To make them unique, call `.var_names_make_unique`.\n",
      "  utils.warn_names_duplicates(\"var\")\n"
     ]
    },
    {
     "name": "stdout",
     "output_type": "stream",
     "text": [
      " (0:00:01)\n"
     ]
    },
    {
     "name": "stderr",
     "output_type": "stream",
     "text": [
      "/home/garvena/projects/def-dmberman/garvena/singlecellseq/ENV/lib/python3.8/site-packages/anndata/_core/anndata.py:1840: UserWarning: Variable names are not unique. To make them unique, call `.var_names_make_unique`.\n",
      "  utils.warn_names_duplicates(\"var\")\n"
     ]
    },
    {
     "name": "stdout",
     "output_type": "stream",
     "text": [
      "reading /home/garvena/projects/def-dmberman/garvena/singlecellseq/Data/CellBender/Lai/SRR9897623_filtered.h5\n"
     ]
    },
    {
     "name": "stderr",
     "output_type": "stream",
     "text": [
      "/home/garvena/projects/def-dmberman/garvena/singlecellseq/ENV/lib/python3.8/site-packages/anndata/_core/anndata.py:1840: UserWarning: Variable names are not unique. To make them unique, call `.var_names_make_unique`.\n",
      "  utils.warn_names_duplicates(\"var\")\n"
     ]
    },
    {
     "name": "stdout",
     "output_type": "stream",
     "text": [
      " (0:00:01)\n"
     ]
    },
    {
     "name": "stderr",
     "output_type": "stream",
     "text": [
      "/home/garvena/projects/def-dmberman/garvena/singlecellseq/ENV/lib/python3.8/site-packages/anndata/_core/anndata.py:1840: UserWarning: Variable names are not unique. To make them unique, call `.var_names_make_unique`.\n",
      "  utils.warn_names_duplicates(\"var\")\n"
     ]
    },
    {
     "name": "stdout",
     "output_type": "stream",
     "text": [
      "reading /home/garvena/projects/def-dmberman/garvena/singlecellseq/Data/CellBender/Lai/SRR9897621_filtered.h5\n"
     ]
    },
    {
     "name": "stderr",
     "output_type": "stream",
     "text": [
      "/home/garvena/projects/def-dmberman/garvena/singlecellseq/ENV/lib/python3.8/site-packages/anndata/_core/anndata.py:1840: UserWarning: Variable names are not unique. To make them unique, call `.var_names_make_unique`.\n",
      "  utils.warn_names_duplicates(\"var\")\n"
     ]
    },
    {
     "name": "stdout",
     "output_type": "stream",
     "text": [
      " (0:00:01)\n"
     ]
    },
    {
     "name": "stderr",
     "output_type": "stream",
     "text": [
      "/home/garvena/projects/def-dmberman/garvena/singlecellseq/ENV/lib/python3.8/site-packages/anndata/_core/anndata.py:1840: UserWarning: Variable names are not unique. To make them unique, call `.var_names_make_unique`.\n",
      "  utils.warn_names_duplicates(\"var\")\n",
      "/home/garvena/projects/def-dmberman/garvena/singlecellseq/ENV/lib/python3.8/site-packages/anndata/_core/anndata.py:1840: UserWarning: Variable names are not unique. To make them unique, call `.var_names_make_unique`.\n",
      "  utils.warn_names_duplicates(\"var\")\n"
     ]
    }
   ],
   "source": [
    "dirpaths = glob('/home/garvena/projects/def-dmberman/garvena/singlecellseq/Data/CellBender/Lai/*_filtered.h5')\n",
    "adatas = {dirpath.split('/')[10]: sc.read_10x_h5(dirpath) for dirpath in dirpaths}"
   ]
  },
  {
   "cell_type": "markdown",
   "metadata": {},
   "source": [
    "## Doublet Prediction: scrublet"
   ]
  },
  {
   "cell_type": "code",
   "execution_count": 10,
   "metadata": {},
   "outputs": [
    {
     "name": "stdout",
     "output_type": "stream",
     "text": [
      "  (0, 16)\t1\n",
      "  (0, 24)\t14\n",
      "  (0, 29)\t52\n",
      "  (0, 30)\t40\n",
      "  (0, 32)\t5\n",
      "  (0, 36)\t6\n",
      "  (0, 37)\t1\n",
      "  (0, 38)\t1\n",
      "  (0, 44)\t11\n",
      "  (0, 45)\t1\n",
      "  (0, 48)\t10\n",
      "  (0, 52)\t6\n",
      "  (0, 53)\t9\n",
      "  (0, 55)\t7\n",
      "  (0, 57)\t3\n",
      "  (0, 59)\t79\n",
      "  (0, 60)\t13\n",
      "  (0, 61)\t3\n",
      "  (0, 62)\t43\n",
      "  (0, 64)\t5\n",
      "  (0, 68)\t1\n",
      "  (0, 69)\t5\n",
      "  (0, 71)\t6\n",
      "  (0, 73)\t9\n",
      "  (0, 74)\t1\n",
      "  :\t:\n",
      "  (13232, 31279)\t1\n",
      "  (13232, 31445)\t1\n",
      "  (13232, 31497)\t1\n",
      "  (13232, 32445)\t1\n",
      "  (13232, 32799)\t1\n",
      "  (13232, 33201)\t1\n",
      "  (13232, 34011)\t1\n",
      "  (13232, 35860)\t1\n",
      "  (13232, 36043)\t1\n",
      "  (13232, 36136)\t1\n",
      "  (13232, 36560)\t1\n",
      "  (13232, 36561)\t1\n",
      "  (13232, 36562)\t1\n",
      "  (13232, 36568)\t2\n",
      "  (13233, 21902)\t2\n",
      "  (13233, 36559)\t3\n",
      "  (13233, 36560)\t10\n",
      "  (13233, 36561)\t11\n",
      "  (13233, 36562)\t44\n",
      "  (13233, 36564)\t12\n",
      "  (13233, 36565)\t8\n",
      "  (13233, 36566)\t10\n",
      "  (13233, 36568)\t9\n",
      "  (13233, 36569)\t2\n",
      "  (13233, 36571)\t8\n"
     ]
    }
   ],
   "source": [
    "for path in dirpaths:\n",
    "    ID = path.split('/')[10]\n",
    "    adata = adatas[ID]\n",
    "    count_matrix = adata.X\n",
    "    print(count_matrix)\n",
    "    break"
   ]
  },
  {
   "cell_type": "markdown",
   "metadata": {},
   "source": [
    "## Pre-Processing Single-Cell RNA-seq Count Data: Scanpy"
   ]
  },
  {
   "cell_type": "code",
   "execution_count": null,
   "metadata": {},
   "outputs": [],
   "source": [
    "adata = ad.concat(adatas, label='sample')\n",
    "adata.obs_names_make_unique\n",
    "adata.var_names_make_unique"
   ]
  },
  {
   "cell_type": "markdown",
   "metadata": {},
   "source": [
    "A common first pre-processing step is to evaluate top gene expression in your samples, to ensure they align with what you would expect within your samples. It is often difficult to see these distributions because they are heavily right skewed so I like to include the `log=True` tag to show log transformed data. please note the x-axis is log transformed (as displayed below). "
   ]
  },
  {
   "cell_type": "code",
   "execution_count": 5,
   "metadata": {},
   "outputs": [
    {
     "name": "stdout",
     "output_type": "stream",
     "text": [
      "normalizing counts per cell\n"
     ]
    },
    {
     "name": "stdout",
     "output_type": "stream",
     "text": [
      "    finished (0:00:37)\n"
     ]
    },
    {
     "data": {
      "image/png": "[encoded data removed]",
      "text/plain": [
       "<Figure size 500x550 with 1 Axes>"
      ]
     },
     "metadata": {},
     "output_type": "display_data"
    }
   ],
   "source": [
    "sc.pl.highest_expr_genes(adata, n_top=20, show=True, log=True)"
   ]
  }
 ],
 "metadata": {
  "kernelspec": {
   "display_name": "Python 3",
   "language": "python",
   "name": "python3"
  },
  "language_info": {
   "codemirror_mode": {
    "name": "ipython",
    "version": 3
   },
   "file_extension": ".py",
   "mimetype": "text/x-python",
   "name": "python",
   "nbconvert_exporter": "python",
   "pygments_lexer": "ipython3",
   "version": "3.8.10"
  },
  "orig_nbformat": 4
 },
 "nbformat": 4,
 "nbformat_minor": 2
}
